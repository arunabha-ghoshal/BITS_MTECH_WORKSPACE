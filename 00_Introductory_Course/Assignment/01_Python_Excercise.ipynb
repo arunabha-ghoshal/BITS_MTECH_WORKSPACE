{
 "cells": [
  {
   "attachments": {},
   "cell_type": "markdown",
   "metadata": {},
   "source": [
    "##### 1. Given a number, find the sum of its digits. Take the number as an input from the user."
   ]
  },
  {
   "cell_type": "code",
   "execution_count": 1,
   "metadata": {},
   "outputs": [
    {
     "name": "stdout",
     "output_type": "stream",
     "text": [
      "14\n"
     ]
    }
   ],
   "source": [
    "try:\n",
    "    sum = 0\n",
    "    for n in input(\"Enter a number : \"):\n",
    "        sum += int(n)\n",
    "except Exception as e:\n",
    "    print(e)\n",
    "else:\n",
    "    print(sum)"
   ]
  },
  {
   "attachments": {},
   "cell_type": "markdown",
   "metadata": {},
   "source": [
    "##### 2. Given a number, check whether the given number is an Armstrong number or not."
   ]
  },
  {
   "cell_type": "code",
   "execution_count": 3,
   "metadata": {},
   "outputs": [
    {
     "name": "stdout",
     "output_type": "stream",
     "text": [
      "Armstrong number : False\n"
     ]
    }
   ],
   "source": [
    "def pow(num,order):\n",
    "    try:\n",
    "        num = int(num)\n",
    "        order = int(order)\n",
    "    except Exception as e:\n",
    "        return e\n",
    "    else:\n",
    "        res = 1\n",
    "        for i in range(order):\n",
    "            res *= num\n",
    "        return res\n",
    "\n",
    "def main():\n",
    "    num = input(\"Enter the number : \")\n",
    "    order = len(num)\n",
    "    sum = 0\n",
    "    for n in num:\n",
    "        sum += pow(int(n),order)\n",
    "    if sum == int(num):\n",
    "        return True\n",
    "    else:\n",
    "        return False\n",
    "\n",
    "if __name__==\"__main__\":\n",
    "    print(f\"Armstrong number : {main()}\")"
   ]
  },
  {
   "attachments": {},
   "cell_type": "markdown",
   "metadata": {},
   "source": [
    "7. Searching: Given a sorted array arr[] of n elements, write a\n",
    "function to search a given element x in arr[]. Do it using linear\n",
    "and binary search techniques."
   ]
  },
  {
   "cell_type": "code",
   "execution_count": 3,
   "metadata": {},
   "outputs": [
    {
     "name": "stdout",
     "output_type": "stream",
     "text": [
      "11 is present at position : 6\n"
     ]
    }
   ],
   "source": [
    "def binary_search(arr, beg, end, num):\n",
    "    if end >= beg:\n",
    "        mid = (beg+end)//2\n",
    "\n",
    "        if num == arr[mid]:\n",
    "            return mid\n",
    "        elif num < mid:\n",
    "            return binary_search(arr, beg, mid, num)\n",
    "        elif num > mid:\n",
    "            return binary_search(arr, mid, end, num)\n",
    "        else:\n",
    "            return -1\n",
    "\n",
    "if __name__==\"__main__\":\n",
    "    arr = [1,3,5,7,9,11,13,15,16,18,20]\n",
    "    beg = 0\n",
    "    end = len(arr)\n",
    "    num = 11\n",
    "    res = binary_search(arr, beg, end, num)\n",
    "    if res != -1:\n",
    "        print(f'{num} is present at position : {res+1}')\n",
    "    else:\n",
    "        print(f'{num} not found !')"
   ]
  },
  {
   "attachments": {},
   "cell_type": "markdown",
   "metadata": {},
   "source": [
    "6. Given two numbers n and r, find the value of nCr (binomial\n",
    "coefficient: nCr = (n!) / (r! * (n-r)!))"
   ]
  },
  {
   "cell_type": "code",
   "execution_count": 1,
   "metadata": {},
   "outputs": [
    {
     "name": "stdout",
     "output_type": "stream",
     "text": [
      "7C3 = 35.0\n"
     ]
    }
   ],
   "source": [
    "def factorial(num):\n",
    "    if num > 0:\n",
    "        if num == 1:\n",
    "            return 1\n",
    "        else:\n",
    "            return num*factorial(num-1)\n",
    "    elif num == 0:\n",
    "        return 0\n",
    "    elif num<0:\n",
    "        return -1\n",
    "\n",
    "if __name__==\"__main__\":\n",
    "    n = 7\n",
    "    r = 3\n",
    "    print(f'{n}C{r} = {factorial(n)/(factorial(r) * factorial(n-r))}')\n",
    "    "
   ]
  },
  {
   "attachments": {},
   "cell_type": "markdown",
   "metadata": {},
   "source": [
    "5. Given a number n, write a function to print all prime factors of\n",
    "n. For example, if the input number is 12, then output should be\n",
    "“2 2 3”."
   ]
  },
  {
   "cell_type": "code",
   "execution_count": null,
   "metadata": {},
   "outputs": [],
   "source": [
    "def seiveOfEratosthenes(num):\n",
    "    "
   ]
  }
 ],
 "metadata": {
  "kernelspec": {
   "display_name": "Python 3",
   "language": "python",
   "name": "python3"
  },
  "language_info": {
   "codemirror_mode": {
    "name": "ipython",
    "version": 3
   },
   "file_extension": ".py",
   "mimetype": "text/x-python",
   "name": "python",
   "nbconvert_exporter": "python",
   "pygments_lexer": "ipython3",
   "version": "3.11.1"
  },
  "orig_nbformat": 4,
  "vscode": {
   "interpreter": {
    "hash": "a36687d55f337c39e1942e1c0841adff91d914aa63e0d10915978e1b7e6bbcd5"
   }
  }
 },
 "nbformat": 4,
 "nbformat_minor": 2
}
