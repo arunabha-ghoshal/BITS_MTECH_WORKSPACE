{
 "cells": [
  {
   "attachments": {},
   "cell_type": "markdown",
   "metadata": {},
   "source": [
    "##### 1. Given a number, find the sum of its digits. Take the number as an input from the user."
   ]
  },
  {
   "cell_type": "code",
   "execution_count": null,
   "metadata": {},
   "outputs": [],
   "source": [
    "## v1\n",
    "try:\n",
    "    sum = 0\n",
    "    for n in input(\"Enter a number : \"):\n",
    "        sum += int(n)\n",
    "except Exception as e:\n",
    "    print(e)\n",
    "else:\n",
    "    print(sum)"
   ]
  },
  {
   "cell_type": "code",
   "execution_count": null,
   "metadata": {},
   "outputs": [],
   "source": [
    "## v2\n",
    "try:\n",
    "    copy_num = num = eval(input(\"Enter a number : \"))\n",
    "    if not isinstance(num,int):\n",
    "        raise Exception('Only Integer value is accepted !')\n",
    "except Exception as e:\n",
    "    print(e)\n",
    "else:\n",
    "    res = 0\n",
    "    while num>0:\n",
    "        res += num%10\n",
    "        num //= 10\n",
    "    print(f'Sum of digits of {copy_num} is : {res}')"
   ]
  },
  {
   "attachments": {},
   "cell_type": "markdown",
   "metadata": {},
   "source": [
    "##### 2. Given a number, check whether the given number is an Armstrong number or not."
   ]
  },
  {
   "cell_type": "code",
   "execution_count": null,
   "metadata": {},
   "outputs": [],
   "source": [
    "## v1\n",
    "def pow(num,order):\n",
    "    try:\n",
    "        num = int(num)\n",
    "        order = int(order)\n",
    "    except Exception as e:\n",
    "        return e\n",
    "    else:\n",
    "        res = 1\n",
    "        for i in range(order):\n",
    "            res *= num\n",
    "        return res\n",
    "\n",
    "def main():\n",
    "    num = input(\"Enter the number : \")\n",
    "    order = len(num)\n",
    "    sum = 0\n",
    "    for n in num:\n",
    "        sum += pow(int(n),order)\n",
    "    if sum == int(num):\n",
    "        return True\n",
    "    else:\n",
    "        return False\n",
    "\n",
    "if __name__==\"__main__\":\n",
    "    print(f\"Armstrong number : {main()}\")"
   ]
  },
  {
   "attachments": {},
   "cell_type": "markdown",
   "metadata": {},
   "source": [
    "7. Searching: Given a sorted array arr[] of n elements, write a\n",
    "function to search a given element x in arr[]. Do it using linear\n",
    "and binary search techniques."
   ]
  },
  {
   "cell_type": "code",
   "execution_count": null,
   "metadata": {},
   "outputs": [],
   "source": [
    "def binary_search(arr, beg, end, num):\n",
    "    if end >= beg:\n",
    "        mid = (beg+end)//2\n",
    "\n",
    "        if num == arr[mid]:\n",
    "            return mid\n",
    "        elif num < mid:\n",
    "            return binary_search(arr, beg, mid, num)\n",
    "        elif num > mid:\n",
    "            return binary_search(arr, mid, end, num)\n",
    "        else:\n",
    "            return -1\n",
    "\n",
    "if __name__==\"__main__\":\n",
    "    arr = [1,3,5,7,9,11,13,15,16,18,20]\n",
    "    beg = 0\n",
    "    end = len(arr)\n",
    "    num = 11\n",
    "    res = binary_search(arr, beg, end, num)\n",
    "    if res != -1:\n",
    "        print(f'{num} is present at position : {res+1}')\n",
    "    else:\n",
    "        print(f'{num} not found !')"
   ]
  },
  {
   "attachments": {},
   "cell_type": "markdown",
   "metadata": {},
   "source": [
    "6. Given two numbers n and r, find the value of nCr (binomial\n",
    "coefficient: nCr = (n!) / (r! * (n-r)!))"
   ]
  },
  {
   "cell_type": "code",
   "execution_count": null,
   "metadata": {},
   "outputs": [],
   "source": [
    "def factorial(num):\n",
    "    if num > 0:\n",
    "        if num == 1:\n",
    "            return 1\n",
    "        else:\n",
    "            return num*factorial(num-1)\n",
    "    elif num == 0:\n",
    "        return 0\n",
    "    elif num<0:\n",
    "        return -1\n",
    "\n",
    "if __name__==\"__main__\":\n",
    "    n = 7\n",
    "    r = 3\n",
    "    print(f'{n}C{r} = {factorial(n)/(factorial(r) * factorial(n-r))}')\n",
    "    "
   ]
  },
  {
   "attachments": {},
   "cell_type": "markdown",
   "metadata": {},
   "source": [
    "5. Given a number n, write a function to print all prime factors of\n",
    "n. For example, if the input number is 12, then output should be\n",
    "“2 2 3”."
   ]
  },
  {
   "cell_type": "code",
   "execution_count": null,
   "metadata": {},
   "outputs": [],
   "source": [
    "def seiveOfEratosthenes(num):\n",
    "    prime = [True for i in range(num+1)]\n",
    "    p = 2\n",
    "    while (p*p<=num):\n",
    "        if (prime[p] == True):\n",
    "            for i in range(p*p,num+1,p):\n",
    "                prime[i] = False\n",
    "        p+=1\n",
    "    for p in range(2,num+1):\n",
    "        if prime[p]:\n",
    "            print(p)\n",
    "    \n",
    "if __name__ == \"__main__\":\n",
    "    n = 169\n",
    "    print(f'Prime numbers smaller than {n} : ')\n",
    "    seiveOfEratosthenes(n)"
   ]
  },
  {
   "attachments": {},
   "cell_type": "markdown",
   "metadata": {},
   "source": [
    "4. Given an array which may contain duplicates, print all elements and their frequencies."
   ]
  },
  {
   "cell_type": "code",
   "execution_count": null,
   "metadata": {},
   "outputs": [],
   "source": [
    "in_data = input(\"Enter the elements of the array (space concatenated): \").split()\n",
    "print(f\"Input data : {in_data}\")\n",
    "freq = {}\n",
    "for _ in in_data:\n",
    "    freq[_] = freq.get(_,0)+1\n",
    "\n",
    "for key,value in freq.items():\n",
    "    print(f\"Element : {key} - frequency : {value}\")"
   ]
  },
  {
   "attachments": {},
   "cell_type": "markdown",
   "metadata": {},
   "source": [
    "3. Given a string, write a python function to check if it is palindrome or not."
   ]
  },
  {
   "cell_type": "code",
   "execution_count": null,
   "metadata": {},
   "outputs": [],
   "source": [
    "data = input(\"Enter a string : \") \n",
    "mid = len(data)//2\n",
    "palindrome = False\n",
    "for i in range(mid):\n",
    "    if data[i] != data[-1-i]:\n",
    "        break\n",
    "else:\n",
    "    palindrome = True\n",
    "if palindrome:\n",
    "    print(f\"{data} is a palindrome !\")\n",
    "else:\n",
    "    print(f\"{data} is not a palindrome !\")"
   ]
  }
 ],
 "metadata": {
  "kernelspec": {
   "display_name": "tf2_gpu",
   "language": "python",
   "name": "python3"
  },
  "language_info": {
   "codemirror_mode": {
    "name": "ipython",
    "version": 3
   },
   "file_extension": ".py",
   "mimetype": "text/x-python",
   "name": "python",
   "nbconvert_exporter": "python",
   "pygments_lexer": "ipython3",
   "version": "3.8.10"
  },
  "orig_nbformat": 4,
  "vscode": {
   "interpreter": {
    "hash": "ea5825fb2dfaab58d32ea5cc482d3ffce4524e7fa88e5ae9a46beb7ca32352eb"
   }
  }
 },
 "nbformat": 4,
 "nbformat_minor": 2
}
